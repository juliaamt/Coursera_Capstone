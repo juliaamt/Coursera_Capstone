{
 "cells": [
  {
   "cell_type": "markdown",
   "metadata": {},
   "source": [
    "# Islington Data Science Capstone"
   ]
  },
  {
   "cell_type": "markdown",
   "metadata": {},
   "source": [
    "## Business Case\n",
    "\n",
    "The business problem I am suggesting is that a friend wants to open a sushi restaurant in the Islington area of London. They want to know the most  popular restaurant food types already in the area (including competitive sushi restaurants) and also when different types of restaurants are popular so that they can target their marketing and resources accordingly."
   ]
  },
  {
   "cell_type": "markdown",
   "metadata": {},
   "source": [
    "## Data Requirements\n",
    "\n",
    "The data that I will need is a list of the restaurants in the local area, the type of cuisine that they serve, the times that they are open and the times that they are popular. I'll include data on other types of restaurants so that my model learns about when restaurants are generally popular in the local area. Including data on other types of restaurants will help to prevent my model from over-fitting. It may also highlight a gap in the market if there are other restaurants that are open and popular but existing sushi restaurants are not open."
   ]
  },
  {
   "cell_type": "code",
   "execution_count": null,
   "metadata": {},
   "outputs": [],
   "source": []
  }
 ],
 "metadata": {
  "kernelspec": {
   "display_name": "Python 3",
   "language": "python",
   "name": "python3"
  },
  "language_info": {
   "codemirror_mode": {
    "name": "ipython",
    "version": 3
   },
   "file_extension": ".py",
   "mimetype": "text/x-python",
   "name": "python",
   "nbconvert_exporter": "python",
   "pygments_lexer": "ipython3",
   "version": "3.7.3"
  }
 },
 "nbformat": 4,
 "nbformat_minor": 2
}
